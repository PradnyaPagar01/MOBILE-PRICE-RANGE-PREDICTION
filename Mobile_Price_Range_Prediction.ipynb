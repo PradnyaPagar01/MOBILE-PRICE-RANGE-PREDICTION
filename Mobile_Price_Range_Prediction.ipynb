{
  "nbformat": 4,
  "nbformat_minor": 0,
  "metadata": {
    "colab": {
      "private_outputs": true,
      "provenance": [],
      "include_colab_link": true
    },
    "kernelspec": {
      "name": "python3",
      "display_name": "Python 3"
    },
    "language_info": {
      "name": "python"
    }
  },
  "cells": [
    {
      "cell_type": "markdown",
      "metadata": {
        "id": "view-in-github",
        "colab_type": "text"
      },
      "source": [
        "<a href=\"https://colab.research.google.com/github/PradnyaPagar01/MOBILE-PRICE-RANGE-PREDICTION/blob/main/Mobile_Price_Range_Prediction.ipynb\" target=\"_parent\"><img src=\"https://colab.research.google.com/assets/colab-badge.svg\" alt=\"Open In Colab\"/></a>"
      ]
    },
    {
      "cell_type": "markdown",
      "source": [
        "# **Project Name  - MOBILE PRICE RANGE PREDICTION**\n"
      ],
      "metadata": {
        "id": "vncDsAP0Gaoa"
      }
    },
    {
      "cell_type": "markdown",
      "metadata": {
        "id": "rzW-YDTUxMiN"
      },
      "source": [
        "##### **Project Type**    - Classification\n",
        "##### **Contribution**    - Team Project\n",
        "##### **Team Member 1 -**  - Shreyash Sarode\n",
        "##### **Team Member 2 -**  - Tushar Khairnar\n",
        "##### **Team Member 3 -**  - Pradnya pagar\n",
        "##### **Team Member 4 -**  - Taha Nakedar"
      ]
    },
    {
      "cell_type": "markdown",
      "source": [
        "# **Project Summary -**"
      ],
      "metadata": {
        "id": "FJNUwmbgGyua"
      }
    },
    {
      "cell_type": "markdown",
      "source": [
        "\n",
        "\n",
        "**-The main purpose of this project is for the submission of Machine Learning for Developers project Assignment. Secondly i have chosen this dataset as to how is the mobile specifications impact the price range of the mobile phones.**\n",
        "\n",
        "**-In this problem you do not have to predict actual price but a price range indicating how high the price is.**\n",
        "\n",
        "**-This is a standard supervised classification problem. A classification problem where we have to predict the price range of mobile falls in 0 (low cost) ,1 (medium) ,2 (high),3 (very high).**\n",
        "\n",
        "\n",
        "\n"
      ],
      "metadata": {
        "id": "F6v_1wHtG2nS"
      }
    },
    {
      "cell_type": "markdown",
      "source": [
        "**-In this project we are going to do implementing a salable model for predicting the mobile price prediction using some of the regression techniques based of some of features in the dataset which is called mobile Price Prediction. There are some of the processing techniques for creating a model. In this project i used web scrapping techniques for collecting the mobile data from E-Commerce website. We will see about it in upcoming parts.**\n",
        "\n",
        "**-Mobile prices are an important reflection of the Humans and some ranges are of great interest for both buyers and sellers. Ask a mobile buyer to describe their dream Mobile or Branded Mobile Phones. So in this blog we are going to see about how the prices are segregated based on the some of the features. As well as the target feature prediction based on the same features.**\n",
        "\n",
        "\n"
      ],
      "metadata": {
        "id": "QK3Z-bIZ9Clr"
      }
    },
    {
      "cell_type": "markdown",
      "source": [
        "**-Then we will select the important features for classification model and try the various classification models. After checking the accuracy and confusion matrix we will select the best model for this dataset.**\n",
        "\n",
        "**-In this project we are going to use Logistic Regression, Decision tree classifier, Random forest classifier, Gradient boosting classifier, K- nearest neighbour classifier, XGboost classifier and Support vector machine classifier with Hyperparameter tuning and cross validation techniques to obtain best result.**"
      ],
      "metadata": {
        "id": "4HyfOgxtkUfK"
      }
    },
    {
      "cell_type": "markdown",
      "source": [
        "**-Motivation**\n",
        "\n",
        "**-The Motivation behind it I just wanna know about the various kinds of mobile prices. Because most of the E-Commerce website were focused to sold the mobile for consumers.**\n",
        "\n",
        "**-Because in those days many of the students including me also having the online class rooms for continue our education systems. So I got the idea about to do some of the useful things do.**"
      ],
      "metadata": {
        "id": "uM6qHSXoBW7H"
      }
    },
    {
      "cell_type": "markdown",
      "source": [
        "# **GitHub Link -**"
      ],
      "metadata": {
        "id": "w6K7xa23Elo4"
      }
    },
    {
      "cell_type": "markdown",
      "source": [
        "**https://github.com/PradnyaPagar01/MOBILE-PRICE-RANGE-PREDICTION**"
      ],
      "metadata": {
        "id": "h1o69JH3Eqqn"
      }
    },
    {
      "cell_type": "markdown",
      "source": [
        "# **Problem Statement**\n"
      ],
      "metadata": {
        "id": "yQaldy8SH6Dl"
      }
    },
    {
      "cell_type": "markdown",
      "source": [
        "**In the competitive mobile phone market companies want to understand sales data of mobile phones and factors which drive the prices. The objective is to find out some relation between features of a mobile phone(eg:- RAM, Internal Memory, etc) and its selling price. In this problem, we do not have to predict the actual price but a price range indicating how high the price is.**"
      ],
      "metadata": {
        "id": "DpeJGUA3kjGy"
      }
    },
    {
      "cell_type": "markdown",
      "source": [
        "**Data Description -**\n",
        "\n",
        "**Battery_power -**  Total energy a battery can store in one time measured in mAh\n",
        "\n",
        "**Blue -**Has bluetooth or not\n",
        "\n",
        "**Clock_speed -** speed at which microprocessor executes instructions\n",
        "\n",
        "**Dual_sim -** Has dual sim support or not\n",
        "\n",
        "**Fc -** Front Camera mega pixels\n",
        "\n",
        "**Four_g -** Has 4G or not\n",
        "\n",
        "**Int_memory -** Internal Memory in Gigabytes\n",
        "\n",
        "**M_dep -** Mobile Depth in cm\n",
        "\n",
        "**Mobile_wt -** Weight of mobile phone\n",
        "\n",
        "**N_cores -** Number of cores of processor\n",
        "\n",
        "**Pc -** Primary Camera mega pixels\n",
        "\n",
        "**Px_height -** Pixel Resolution Height\n",
        "\n",
        "**Px_width -** Pixel Resolution Width\n",
        "\n",
        "**Ram -** Random Access Memory in Mega\n",
        "\n",
        "**Touch_screen -** Has touch screen or not\n",
        "\n",
        "**Wifi -** Has wifi or not\n",
        "\n",
        "**Sc_h -** Screen Height of mobile in cm\n",
        "\n",
        "**c_w -** Screen Width of mobile in cm\n",
        "\n",
        "**Talk_time -**longest time that a single battery charge will last when you are\n",
        "\n",
        "**Three_g -** Has 3G or not\n",
        "\n",
        "**Wifi -** Has wifi or not\n",
        "\n",
        "**Price_range -** This is the target variable with value of 0(low cost), 1(medium cost)"
      ],
      "metadata": {
        "id": "UyMmAXmt9LJL"
      }
    },
    {
      "cell_type": "markdown",
      "source": [
        "# ***Let's Begin !***"
      ],
      "metadata": {
        "id": "O_i_v8NEhb9l"
      }
    },
    {
      "cell_type": "markdown",
      "source": [
        "## ***1. Know Your Data***"
      ],
      "metadata": {
        "id": "HhfV-JJviCcP"
      }
    },
    {
      "cell_type": "markdown",
      "metadata": {
        "id": "W82L6mvSxQnD"
      },
      "source": [
        "### **Important Libraries**\n",
        "\n",
        "\n",
        "\n"
      ]
    },
    {
      "cell_type": "markdown",
      "metadata": {
        "id": "qzTg_SMgJJG6"
      },
      "source": [
        "Initially we will importing the important libraries as per our requirement.\n",
        "there are some libraries we are going to import.\n",
        "\n",
        "1.   NumPy\n",
        "2.   Pandas\n",
        "3.   Matplotlib\n",
        "4.   Seaborn\n",
        "5.   Scikit Learn\n",
        "\n",
        "\n"
      ]
    },
    {
      "cell_type": "code",
      "source": [
        "# importing  all necessary libraries\n",
        "\n",
        "import numpy as np\n",
        "import pandas as pd\n",
        "import matplotlib.pyplot as plt\n",
        "import seaborn as sns\n",
        "\n",
        "from sklearn import model_selection\n",
        "from sklearn.model_selection import train_test_split\n",
        "from sklearn.preprocessing import StandardScaler,MinMaxScaler\n",
        "from sklearn.metrics import accuracy_score, classification_report, plot_confusion_matrix,confusion_matrix,roc_curve,roc_auc_score,auc\n",
        "from sklearn.tree import DecisionTreeClassifier\n",
        "from sklearn.ensemble import RandomForestClassifier\n",
        "from sklearn.ensemble import GradientBoostingClassifier\n",
        "from sklearn.neighbors import KNeighborsClassifier\n",
        "from sklearn.linear_model import LogisticRegression\n",
        "from sklearn.ensemble import AdaBoostClassifier\n",
        "from xgboost import XGBClassifier\n",
        "from sklearn.model_selection import GridSearchCV\n",
        "from sklearn.metrics import confusion_matrix\n",
        "import missingno as msno\n",
        "from sklearn.svm import SVC\n",
        "\n",
        "import warnings\n",
        "warnings.filterwarnings(\"ignore\")"
      ],
      "metadata": {
        "id": "M8Vqi-pPk-HR"
      },
      "execution_count": null,
      "outputs": []
    },
    {
      "cell_type": "markdown",
      "metadata": {
        "id": "TlUGbsmLxc1I"
      },
      "source": [
        "**-To begin we will first need to explore our dataset.\n",
        "Let's import our csv file and convert into dataframes.\n",
        "Here we have a dataset of MOBILE PRICE RANGE which consist of information of mobile aspects and price range related aspects.**"
      ]
    },
    {
      "cell_type": "markdown",
      "source": [
        "### Dataset Loading"
      ],
      "metadata": {
        "id": "3RnN4peoiCZX"
      }
    },
    {
      "cell_type": "code",
      "source": [
        "# Mounting the drive\n",
        "\n",
        "from google.colab import drive\n",
        "drive.mount('/content/drive')"
      ],
      "metadata": {
        "id": "4CkvbW_SlZ_R"
      },
      "execution_count": null,
      "outputs": []
    },
    {
      "cell_type": "code",
      "source": [
        "# Loading the dataset\n",
        "\n",
        "df = pd.read_csv('/content/drive/MyDrive/Colab Notebooks/ALMABETTER/Capstone Project - 03/data_mobile_price_range.csv')\n"
      ],
      "metadata": {
        "id": "JmlLzRN-UkXP"
      },
      "execution_count": null,
      "outputs": []
    },
    {
      "cell_type": "markdown",
      "source": [
        "### Dataset First View"
      ],
      "metadata": {
        "id": "x71ZqKXriCWQ"
      }
    },
    {
      "cell_type": "code",
      "source": [
        "# Dataset First Look\n",
        "# Return the first 5 rows of the DataFrame\n",
        "df.head()"
      ],
      "metadata": {
        "id": "LWNFOSvLl09H"
      },
      "execution_count": null,
      "outputs": []
    },
    {
      "cell_type": "markdown",
      "source": [
        "### Dataset Rows & Columns count"
      ],
      "metadata": {
        "id": "7hBIi_osiCS2"
      }
    },
    {
      "cell_type": "code",
      "source": [
        "# Dataset Rows & Columns count\n",
        "df.shape"
      ],
      "metadata": {
        "id": "Kllu7SJgmLij"
      },
      "execution_count": null,
      "outputs": []
    },
    {
      "cell_type": "markdown",
      "source": [
        "**- So we have to dealed with 2000 number of rows and 21 columns**"
      ],
      "metadata": {
        "id": "WQ5vCo8AVv0X"
      }
    },
    {
      "cell_type": "markdown",
      "source": [
        "### Dataset Information"
      ],
      "metadata": {
        "id": "JlHwYmJAmNHm"
      }
    },
    {
      "cell_type": "code",
      "source": [
        "# Dataset Info\n",
        "df.info()"
      ],
      "metadata": {
        "id": "e9hRXRi6meOf"
      },
      "execution_count": null,
      "outputs": []
    },
    {
      "cell_type": "markdown",
      "source": [
        "#### Duplicate Values"
      ],
      "metadata": {
        "id": "35m5QtbWiB9F"
      }
    },
    {
      "cell_type": "code",
      "source": [
        "#checking whether there is duplicates or not\n",
        "len(df[df.duplicated()])"
      ],
      "metadata": {
        "id": "1sLdpKYkmox0"
      },
      "execution_count": null,
      "outputs": []
    },
    {
      "cell_type": "markdown",
      "source": [
        "**-there are no duplicate values**"
      ],
      "metadata": {
        "id": "dZvdv96DW6_D"
      }
    },
    {
      "cell_type": "markdown",
      "source": [
        "#### Missing Values/Null Values"
      ],
      "metadata": {
        "id": "PoPl-ycgm1ru"
      }
    },
    {
      "cell_type": "code",
      "source": [
        "#To check null values\n",
        "df.isnull().sum()"
      ],
      "metadata": {
        "id": "GgHWkxvamxVg"
      },
      "execution_count": null,
      "outputs": []
    },
    {
      "cell_type": "code",
      "source": [
        "# Visualizing the missing values\n",
        "msno.bar(df)"
      ],
      "metadata": {
        "id": "3q5wnI3om9sJ"
      },
      "execution_count": null,
      "outputs": []
    },
    {
      "cell_type": "markdown",
      "source": [
        "**-As we can clearly see there are no any null values in the given dataset**"
      ],
      "metadata": {
        "id": "iWNLW3O7YdQD"
      }
    },
    {
      "cell_type": "markdown",
      "source": [
        "* **We don't have any object data type in our data set.**\n",
        "* **Also we have Zero null values in data set.**\n",
        "* **Price_range is our target variable.**"
      ],
      "metadata": {
        "id": "1liH0GQ922kx"
      }
    },
    {
      "cell_type": "markdown",
      "source": [
        "## ***2. Understanding Your Variables***"
      ],
      "metadata": {
        "id": "nA9Y7ga8ng1Z"
      }
    },
    {
      "cell_type": "code",
      "source": [
        "# Dataset Columns\n",
        "df.columns"
      ],
      "metadata": {
        "id": "j7xfkqrt5Ag5"
      },
      "execution_count": null,
      "outputs": []
    },
    {
      "cell_type": "code",
      "source": [
        "#Description of the data\n",
        "df.describe()\n",
        "df.describe().T # transpose"
      ],
      "metadata": {
        "id": "DnOaZdaE5Q5t"
      },
      "execution_count": null,
      "outputs": []
    },
    {
      "cell_type": "markdown",
      "source": [
        "**minimum value of px_height and sc_w cannot be zero so we need to handle that**"
      ],
      "metadata": {
        "id": "qz5PxModzyyd"
      }
    },
    {
      "cell_type": "code",
      "source": [
        "# Total phones with 'sc_w' = 0\n",
        "print(len(df[df.sc_w == 0]))\n",
        "# Total phones with 'px_height' = 0\n",
        "print(len(df[df.px_height == 0]))\n",
        "# Total phones with 'fc' = 0\n",
        "print(len(df[df.fc == 0]))\n",
        "# Total phones with 'pc' = 0\n",
        "print(len(df[df.pc == 0]))"
      ],
      "metadata": {
        "id": "Bd8o_Yzrz03W"
      },
      "execution_count": null,
      "outputs": []
    },
    {
      "cell_type": "code",
      "source": [
        "#where ther is sc_W and px_height is zero ,assigning mean values\n",
        "df['sc_w'][df[df.sc_w == 0].index] = df.sc_w.mean()\n",
        "df['px_height'][df[df.px_height == 0].index] = df.px_height.mean()\n",
        "df['fc'][df[df.fc == 0].index] = df.fc.mean()\n",
        "df['pc'][df[df.pc == 0].index] = df.pc.mean()"
      ],
      "metadata": {
        "id": "a5MLe0S4z6_N"
      },
      "execution_count": null,
      "outputs": []
    },
    {
      "cell_type": "code",
      "source": [
        "# Total phones with 'sc_w' = 0\n",
        "print(len(df[df.sc_w == 0]))\n",
        "# Total phones with 'px_height' = 0\n",
        "print(len(df[df.px_height == 0]))\n",
        "# Total phones with 'fc' = 0\n",
        "print(len(df[df.fc == 0]))\n",
        "# Total phones with 'pc' = 0\n",
        "print(len(df[df.pc == 0]))"
      ],
      "metadata": {
        "id": "7Py1XcGetg3l"
      },
      "execution_count": null,
      "outputs": []
    },
    {
      "cell_type": "markdown",
      "source": [
        "**Hence we successfully replace zero with mean value of respective column.**"
      ],
      "metadata": {
        "id": "_lbdTrJXtlvF"
      }
    },
    {
      "cell_type": "markdown",
      "source": [
        "### Check Unique Values for each variable."
      ],
      "metadata": {
        "id": "u3PMJOP6ngxN"
      }
    },
    {
      "cell_type": "code",
      "source": [
        "# Check Unique Values for each variable.\n",
        "df.nunique()"
      ],
      "metadata": {
        "id": "zms12Yq5n-jE"
      },
      "execution_count": null,
      "outputs": []
    },
    {
      "cell_type": "markdown",
      "source": [
        "## ***3. Data Vizualization, Storytelling & Experimenting with charts : Understand the relationships between variables***"
      ],
      "metadata": {
        "id": "GF8Ens_Soomf"
      }
    },
    {
      "cell_type": "markdown",
      "source": [
        "###**Chart 1 - price**"
      ],
      "metadata": {
        "id": "0wOQAZs5pc--"
      }
    },
    {
      "cell_type": "code",
      "source": [
        "# Chart - 1 visualization code\n",
        "sns.set()\n",
        "price_plot=df['price_range'].value_counts().plot(kind='bar')\n",
        "plt.xlabel('price_range')\n",
        "plt.ylabel('Count')\n",
        "plt.show()"
      ],
      "metadata": {
        "id": "7v_ESjsspbW7"
      },
      "execution_count": null,
      "outputs": []
    },
    {
      "cell_type": "markdown",
      "source": [
        "**There are mobile phones in 4 price ranges. The number of elements is almost similar.**"
      ],
      "metadata": {
        "id": "XESiWehPqBRc"
      }
    },
    {
      "cell_type": "markdown",
      "source": [
        "###**Chart 2 - Battery Power**"
      ],
      "metadata": {
        "id": "KSlN3yHqYklG"
      }
    },
    {
      "cell_type": "code",
      "source": [
        "# Chart - 2 visualization code\n",
        "sns.set(rc={'figure.figsize':(5,5)})\n",
        "ax=sns.displot(df[\"battery_power\"])\n",
        "plt.show()"
      ],
      "metadata": {
        "id": "R4YgtaqtYklH"
      },
      "execution_count": null,
      "outputs": []
    },
    {
      "cell_type": "markdown",
      "source": [
        "**This plot shows how the battery mAh is spread. there is a gradual increase as the price range increases.**"
      ],
      "metadata": {
        "id": "5aaW0BYyYklI"
      }
    },
    {
      "cell_type": "markdown",
      "source": [
        "###**Chart 3 - Bluetooth** "
      ],
      "metadata": {
        "id": "EM7whBJCYoAo"
      }
    },
    {
      "cell_type": "code",
      "source": [
        "# Chart - 3 visualization code\n",
        "# anlysis of data by vizualisation\n",
        "fig,ax=plt.subplots(figsize=(10,5))\n",
        "sns.barplot(data=df,x='blue',y='price_range',ax=ax)\n",
        "plt.xlabel('Bluetooth')\n",
        "plt.ylabel('Price Range')"
      ],
      "metadata": {
        "id": "t6GMdE67YoAp"
      },
      "execution_count": null,
      "outputs": []
    },
    {
      "cell_type": "markdown",
      "source": [
        "**Half the devices have Bluetooth, and half don’t.**"
      ],
      "metadata": {
        "id": "5dBItgRVYoAp"
      }
    },
    {
      "cell_type": "markdown",
      "source": [
        "###**Chart 4 - Ram** "
      ],
      "metadata": {
        "id": "4Of9eVA-YrdM"
      }
    },
    {
      "cell_type": "code",
      "source": [
        "# Chart - 4 visualization code\n",
        "df.plot(x='price_range',y='ram',kind='scatter')\n",
        "plt.show()"
      ],
      "metadata": {
        "id": "irlUoxc8YrdO"
      },
      "execution_count": null,
      "outputs": []
    },
    {
      "cell_type": "markdown",
      "source": [
        "**Ram has continuous increase with price range while moving from Low cost to Very high cost.**"
      ],
      "metadata": {
        "id": "aJRCwT6DYrdO"
      }
    },
    {
      "cell_type": "markdown",
      "source": [
        "###**Chart 5 - Price Range Vs Battery Power** "
      ],
      "metadata": {
        "id": "bamQiAODYuh1"
      }
    },
    {
      "cell_type": "code",
      "source": [
        "# Chart - 5 visualization code\n",
        "fig = plt.subplots (figsize = (11, 13))\n",
        "sns.barplot(x='price_range',y='battery_power',data=df,ci= None)\n",
        "plt.show()"
      ],
      "metadata": {
        "id": "TIJwrbroYuh3"
      },
      "execution_count": null,
      "outputs": []
    },
    {
      "cell_type": "markdown",
      "source": [
        "**Here we can see that price increases with increase in Battery Power.**"
      ],
      "metadata": {
        "id": "dcxuIMRPYuh3"
      }
    },
    {
      "cell_type": "markdown",
      "source": [
        "###**Chart 6 - FC (front camera megapixels)** "
      ],
      "metadata": {
        "id": "OH-pJp9IphqM"
      }
    },
    {
      "cell_type": "code",
      "source": [
        "# Chart - 6 visualization code\n",
        "fig = plt.subplots (figsize = (11, 13))\n",
        "sns.barplot(x='price_range',y='fc',data=df,ci= None)\n",
        "plt.show()"
      ],
      "metadata": {
        "id": "kuRf4wtuphqN"
      },
      "execution_count": null,
      "outputs": []
    },
    {
      "cell_type": "markdown",
      "source": [
        "**This features distribution is almost similar along all the price ranges variable, it may not be helpful in making predictions.**"
      ],
      "metadata": {
        "id": "loh7H2nzphqN"
      }
    },
    {
      "cell_type": "markdown",
      "source": [
        "###**Chart 7 -  Correlation Heatmap** "
      ],
      "metadata": {
        "id": "NC_X3p0fY2L0"
      }
    },
    {
      "cell_type": "code",
      "source": [
        "# Correlation Heatmap visualization code\n",
        "# Before going through machine learning applications, let's see the correlation btw features and target variable by plotting heatmap:\n",
        "fig = plt.subplots (figsize = (20, 15))\n",
        "sns.heatmap(df.corr (), square = True, cbar = True, annot = True, cmap=\"GnBu\", annot_kws = {'size': 10})\n",
        "plt.title('Correlations between Attributes')\n",
        "plt.show ()"
      ],
      "metadata": {
        "id": "xyC9zolEZNRQ"
      },
      "execution_count": null,
      "outputs": []
    },
    {
      "cell_type": "markdown",
      "source": [
        "**We see from the heatmap-**\n",
        "\n",
        "* **the most influential variable is ram**\n",
        "\n",
        "* **most of the variables have very little correlation to price range** \n",
        "\n",
        "* **primary camera mega pixels and front Camera mega pixels have correlation (it make sense because both of them reflect technology level of resolution of the related phone model) but they do not effect prige range.**\n",
        "\n",
        "* **having 3G and 4G is somewhat correlated**\n",
        "\n",
        "* **there is no highly correlated inputs in our dataset, so there is no multicollinearity problem.**"
      ],
      "metadata": {
        "id": "DVPuT8LYZNRQ"
      }
    },
    {
      "cell_type": "markdown",
      "source": [
        "###**Chart 7 -  Pair Plot** "
      ],
      "metadata": {
        "id": "q29F0dvdveiT"
      }
    },
    {
      "cell_type": "code",
      "source": [
        "# Pair Plot visualization code\n",
        "Plot=df[['ram','battery_power','int_memory','dual_sim','n_cores','pc','price_range']]\n",
        "sns.pairplot(Plot)\n",
        "plt.show()"
      ],
      "metadata": {
        "id": "o58-TEIhveiU"
      },
      "execution_count": null,
      "outputs": []
    },
    {
      "cell_type": "markdown",
      "source": [
        "###**Chart 8 -  Boxplot for understanding outliers** "
      ],
      "metadata": {
        "id": "aHOMogz8GEbo"
      }
    },
    {
      "cell_type": "code",
      "source": [
        "numeric_col=list(df.columns)\n",
        "print(numeric_col)"
      ],
      "metadata": {
        "id": "9tIMX_gBF-C5"
      },
      "execution_count": null,
      "outputs": []
    },
    {
      "cell_type": "code",
      "source": [
        "# plotting boXplot and distribution\n",
        "for var in numeric_col:\n",
        "    plt.figure(figsize=(15,6))\n",
        "    plt.subplot(1, 2, 1)\n",
        "    fig = sns.boxplot(y = df[var],color='green') \n",
        "    fig.set_title('')\n",
        "    fig.set_ylabel(var)\n",
        "    \n",
        "    plt.subplot(1, 2, 2)\n",
        "    fig = sns.distplot( df[var],color= 'red')\n",
        "    \n",
        "    fig.set_xlabel(var)\n",
        "\n",
        "    plt.show()"
      ],
      "metadata": {
        "id": "7zlO_fe7GQUC"
      },
      "execution_count": null,
      "outputs": []
    },
    {
      "cell_type": "markdown",
      "source": [
        "## ***4. Feature Engineering & Data Pre-processing***"
      ],
      "metadata": {
        "id": "yLjJCtPM0KBk"
      }
    },
    {
      "cell_type": "markdown",
      "source": [
        "### **1. Handling Outliers**"
      ],
      "metadata": {
        "id": "id1riN9m0vUs"
      }
    },
    {
      "cell_type": "code",
      "source": [
        "# Handling Outliers & Outlier treatments\n",
        "df.columns"
      ],
      "metadata": {
        "id": "M6w2CzZf04JK"
      },
      "execution_count": null,
      "outputs": []
    },
    {
      "cell_type": "code",
      "source": [
        "# Handling Outliers & Outlier treatments\n",
        "\n",
        "Q1 = df[\"fc\"].quantile(0.25)\n",
        "Q3 = df['fc'].quantile(0.75)\n",
        "IQR = Q3-Q1\n",
        "\n",
        "# Outliers are present after Quartile 3. so we will take datapoints before Q3.\n",
        "df = df[(df['fc'] <= Q3)]"
      ],
      "metadata": {
        "id": "6OfsIGOMHDeE"
      },
      "execution_count": null,
      "outputs": []
    },
    {
      "cell_type": "code",
      "source": [
        "Q1 = df[\"px_height\"].quantile(0.25)\n",
        "Q3 = df['px_height'].quantile(0.991)\n",
        "IQR = Q3-Q1\n",
        "# Outliers are present after Quartile 3. so we will take datapoints before Q3.\n",
        "df = df[(df['px_height'] <= Q3)]"
      ],
      "metadata": {
        "id": "iPIis5x8HEXX"
      },
      "execution_count": null,
      "outputs": []
    },
    {
      "cell_type": "code",
      "source": [
        "# plotting boXplot and distribution\n",
        "for var in ['fc','px_height']:\n",
        "    plt.figure(figsize=(15,6))\n",
        "    plt.subplot(1, 2, 1)\n",
        "    fig = sns.boxplot(y = df[var],color='green')\n",
        "    fig.set_title('')\n",
        "    fig.set_ylabel(var)\n",
        "    \n",
        "    plt.subplot(1, 2, 2)\n",
        "    fig = sns.distplot( df[var],color= 'red')\n",
        "    \n",
        "    fig.set_xlabel(var)\n",
        "\n",
        "    plt.show()"
      ],
      "metadata": {
        "id": "ncZvXtVFHqxY"
      },
      "execution_count": null,
      "outputs": []
    },
    {
      "cell_type": "markdown",
      "source": [
        "**-The boxplots gave an insight that there are outliers in Front Camera MP and Pixel R. Height but we won't treat any value as outlier here because somewhat these values seems to be realistically to have in different kinds of mobiles available in the market.**"
      ],
      "metadata": {
        "id": "xo38oN0qmxTT"
      }
    },
    {
      "cell_type": "code",
      "source": [
        "df.corr()['price_range']"
      ],
      "metadata": {
        "id": "BhZE45C3OMkx"
      },
      "execution_count": null,
      "outputs": []
    },
    {
      "cell_type": "markdown",
      "source": [
        "### **2. Feature Manipulation & Selection**"
      ],
      "metadata": {
        "id": "-oLEiFgy-5Pf"
      }
    },
    {
      "cell_type": "markdown",
      "source": [
        "#### 1. Feature Selection"
      ],
      "metadata": {
        "id": "2DejudWSA-a0"
      }
    },
    {
      "cell_type": "code",
      "source": [
        "# Select your features wisely to avoid overfitting\n",
        "# Separating X variables(indpendent variables) and Y(dependent variable) variable.\n",
        "X= df.drop('price_range',axis=1)\n",
        "Y= df[\"price_range\"]"
      ],
      "metadata": {
        "id": "YLhe8UmaBCEE"
      },
      "execution_count": null,
      "outputs": []
    },
    {
      "cell_type": "code",
      "source": [
        "# Test options and evaluation metric\n",
        "validation_size = 0.30\n",
        "seed = 7\n",
        "scoring = 'accuracy'\n",
        "X_train, X_validation, Y_train, Y_validation =  model_selection.train_test_split(X, Y, test_size=validation_size, random_state=seed)"
      ],
      "metadata": {
        "id": "W5MrZUyQOWXw"
      },
      "execution_count": null,
      "outputs": []
    },
    {
      "cell_type": "code",
      "source": [
        "accuracy = []\n",
        "from sklearn import metrics \n",
        "for i in range(1,21):\n",
        "    knn = KNeighborsClassifier(n_neighbors = i).fit(X_train,Y_train)\n",
        "    knn_predict = knn.predict(X_validation)\n",
        "    accuracy.append(metrics.accuracy_score(Y_validation,knn_predict))\n",
        "\n",
        "plt.figure(figsize = (10,6))\n",
        "plt.plot(range(1,21),accuracy,color = 'green',linestyle = 'dashed', marker = '8', markerfacecolor='blue', markersize = 10)\n",
        "plt.title('Accuracy vs K value') \n",
        "plt.xlabel('K') \n",
        "plt.ylabel('Accuracy')\n",
        "print(\"Maximum Accuracy:\", max(accuracy),\"at K = \" , accuracy.index(max(accuracy)))"
      ],
      "metadata": {
        "id": "y8DQlpExQn-y"
      },
      "execution_count": null,
      "outputs": []
    },
    {
      "cell_type": "code",
      "source": [
        "from sklearn.feature_selection import SelectKBest\n",
        "from sklearn.feature_selection import chi2 \n",
        "#get the k optimal value that we just looped just now \n",
        "bestfeatures = SelectKBest(score_func = chi2,k=17) \n",
        "fit = bestfeatures.fit(X,Y) \n",
        "dfscores = pd.DataFrame(fit.scores_)\n",
        "dfcolumns = pd.DataFrame(X.columns) \n",
        "# making sort of a datatable to visualize the values \n",
        "score_table = pd.concat([dfcolumns,dfscores],axis = 1)\n",
        "# name the table column\n",
        "score_table.columns = ['Specifications','Score'] \n",
        "# print 15 best features \n",
        "print(score_table.nlargest(20,'Score'))"
      ],
      "metadata": {
        "id": "b7-b_zKWRNg7"
      },
      "execution_count": null,
      "outputs": []
    },
    {
      "cell_type": "code",
      "source": [
        "# 12 features with highest chi squared statistic are selected as independent variables.\n",
        "X = df[['ram','px_height','battery_power','px_width','mobile_wt','int_memory','sc_h','sc_w','talk_time','fc','n_cores','touch_screen','pc','four_g','m_dep','clock_speed','dual_sim','blue','wifi','three_g']]\n",
        "\n",
        "# dependent varaible\n",
        "y = df['price_range']"
      ],
      "metadata": {
        "id": "OBQBqukORbxv"
      },
      "execution_count": null,
      "outputs": []
    },
    {
      "cell_type": "markdown",
      "source": [
        "### 2. Data Splitting"
      ],
      "metadata": {
        "id": "BhH2vgX9EjGr"
      }
    },
    {
      "cell_type": "code",
      "source": [
        "# splitting the data into Train and test data\n",
        "\n",
        "X_train, X_test, Y_train, Y_test = train_test_split(X, Y, test_size=0.25, random_state=0)\n",
        "print(X_train.shape)\n",
        "print(X_test.shape)\n",
        "print(Y_train.shape)\n",
        "print(Y_test.shape)"
      ],
      "metadata": {
        "id": "x9lVAJB5SijP"
      },
      "execution_count": null,
      "outputs": []
    },
    {
      "cell_type": "markdown",
      "source": [
        "### 3. Training the Model"
      ],
      "metadata": {
        "id": "TNVZ9zx19K6k"
      }
    },
    {
      "cell_type": "code",
      "source": [
        "#define X and Y again but convert to numpy and split!\n",
        "Y = df['price_range'].to_numpy()\n",
        "del df['price_range']\n",
        "X = df.to_numpy()\n"
      ],
      "metadata": {
        "id": "EoCYM1fustgs"
      },
      "execution_count": null,
      "outputs": []
    },
    {
      "cell_type": "code",
      "source": [
        "# Test options and evaluation metric\n",
        "validation_size = 0.30\n",
        "seed = 7\n",
        "scoring = 'accuracy'\n",
        "X_train, X_validation, Y_train, Y_validation = model_selection.train_test_split(X, Y, test_size=validation_size, random_state=seed)"
      ],
      "metadata": {
        "id": "QQpXaUa-LX_K"
      },
      "execution_count": null,
      "outputs": []
    },
    {
      "cell_type": "markdown",
      "source": [
        "## ***5. ML Model Implementation***"
      ],
      "metadata": {
        "id": "VfCC591jGiD4"
      }
    },
    {
      "cell_type": "code",
      "source": [
        "### Normal Default configurations of models\n",
        "from sklearn.model_selection import KFold,cross_val_score\n",
        "from sklearn.ensemble import GradientBoostingClassifier , RandomForestClassifier  \n",
        "from sklearn.neighbors import KNeighborsClassifier\n",
        "from sklearn.linear_model import LogisticRegression \n",
        "from sklearn.tree import DecisionTreeClassifier\n",
        "from sklearn.metrics import accuracy_score\n",
        "from sklearn.ensemble import RandomForestClassifier\n",
        "from sklearn.discriminant_analysis import LinearDiscriminantAnalysis\n",
        "from sklearn.naive_bayes import GaussianNB\n",
        "from sklearn.svm import SVC\n",
        "from sklearn.linear_model import SGDClassifier"
      ],
      "metadata": {
        "id": "shnHjy7_LdCa"
      },
      "execution_count": null,
      "outputs": []
    },
    {
      "cell_type": "code",
      "source": [
        "# prepare models\n",
        "from sklearn import ensemble\n",
        "models = []\n",
        "models.append(('LogisticR', LogisticRegression()))\n",
        "#models.append(('LDA', LinearDiscriminantAnalysis()))\n",
        "models.append(('KNN', KNeighborsClassifier()))\n",
        "#models.append(('NB', GaussianNB()))\n",
        "models.append(('SVM', SVC()))\n",
        "models.append(('GTB', ensemble.GradientBoostingClassifier()))\n",
        "models.append(('RF', RandomForestClassifier()))\n",
        "#models.append((\"SGDClassifier\",SGDClassifier()))\n",
        "models.append(('DTC', DecisionTreeClassifier()))\n",
        "# evaluate each model in turn\n",
        "results = []\n",
        "names = []\n",
        "scoring = 'accuracy'\n",
        "for name, model in models:\n",
        "    model.fit(X_train,Y_train)\n",
        "    pred = model.predict(X_validation)\n",
        "    accuracy_model = accuracy_score(Y_validation,pred)\n",
        "    print(\"Accuracy of \" ,name, \":\", accuracy_model * 100)\n",
        "print(\"There are\" , len(models) , \"models we are going to try out!! \")"
      ],
      "metadata": {
        "id": "3Cq4q-Z22wqo"
      },
      "execution_count": null,
      "outputs": []
    },
    {
      "cell_type": "markdown",
      "source": [
        "##**Model 1. Logistic Regression Model**"
      ],
      "metadata": {
        "id": "OB4l2ZhMeS1U"
      }
    },
    {
      "cell_type": "code",
      "source": [
        "# ML Model - 1 Implementation\n",
        "\n",
        "# Fit the Algorithm\n",
        "\n",
        "# Predict on the model\n",
        "\n",
        "from sklearn.linear_model import LogisticRegression\n",
        "logR = LogisticRegression()\n",
        "logR.fit(X_train,Y_train)\n",
        "pred = logR.predict(X_validation)\n",
        "accuracy_LR = accuracy_score(Y_validation,pred)\n",
        "print(\"Accuracy of the logistic Regression model: \", accuracy_LR * 100)"
      ],
      "metadata": {
        "id": "7ebyywQieS1U"
      },
      "execution_count": null,
      "outputs": []
    },
    {
      "cell_type": "markdown",
      "source": [
        "* **Accuracy of the logistic Regression model:  66.94**\n",
        "\n",
        "* **We will tune hyperparamters to reduce overfitting and try to imporve the model performance.**"
      ],
      "metadata": {
        "id": "PIe3GF0unUrz"
      }
    },
    {
      "cell_type": "markdown",
      "source": [
        "####**Cross- Validation & Hyperparameter Tuning**"
      ],
      "metadata": {
        "id": "4qY1EAkEfxKe"
      }
    },
    {
      "cell_type": "code",
      "source": [
        "# ML Model - 1 Implementation with hyperparameter optimization techniques (i.e., GridSearch CV, RandomSearch CV, Bayesian Optimization etc.)\n",
        "\n",
        "# Fit the Algorithm\n",
        "\n",
        "# Predict on the model\n",
        "\n",
        "logR2 = LogisticRegression(solver='newton-cg')\n",
        "logR2.fit(X_train,Y_train)\n",
        "pred2 = logR2.predict(X_validation)\n",
        "accuracy_LR2 = accuracy_score(Y_validation,pred2)\n",
        "print(\"Accuravy of the logistic Regression model: \", accuracy_LR2 * 100)"
      ],
      "metadata": {
        "id": "Dy61ujd6fxKe"
      },
      "execution_count": null,
      "outputs": []
    },
    {
      "cell_type": "markdown",
      "source": [
        "## **Model 2. KNeighborsClassifier Model**"
      ],
      "metadata": {
        "id": "dJ2tPlVmpsJ0"
      }
    },
    {
      "cell_type": "code",
      "source": [
        "# Visualizing evaluation Metric Score chart\n",
        "from sklearn.neighbors import KNeighborsClassifier\n",
        "knn = KNeighborsClassifier()\n",
        "knn.fit(X_train,Y_train)"
      ],
      "metadata": {
        "id": "yEl-hgQWpsJ1"
      },
      "execution_count": null,
      "outputs": []
    },
    {
      "cell_type": "code",
      "source": [
        "knn_predict = knn.predict(X_validation)\n",
        "accuracy_KN = accuracy_score(Y_validation,knn_predict)\n",
        "print(\"Accuracy of the KNeighbors Classifier model: \", accuracy_KN * 100)"
      ],
      "metadata": {
        "id": "ihC_MkPw_RLD"
      },
      "execution_count": null,
      "outputs": []
    },
    {
      "cell_type": "markdown",
      "source": [
        "####**Cross- Validation & Hyperparameter Tuning**"
      ],
      "metadata": {
        "id": "sPz3hX3s_f_c"
      }
    },
    {
      "cell_type": "code",
      "source": [
        "from sklearn.model_selection import GridSearchCV\n",
        "k_range = list(range(1,21))\n",
        "weight_options = [\"uniform\", \"distance\"]\n",
        "\n",
        "param_grid = dict(n_neighbors = k_range, weights = weight_options,leaf_size=[1,2,4,5,10,15])\n",
        "#create a new knn object\n",
        "knn_2 = KNeighborsClassifier()\n",
        "# use GridSearch\n",
        "grid = GridSearchCV(knn, param_grid, cv = 10, scoring = 'accuracy')\n",
        "#fit the model\n",
        "best_model = grid.fit(X_train,Y_train)\n",
        "\n",
        "print (grid.best_score_)\n",
        "print (grid.best_params_)\n",
        "print (grid.best_estimator_)"
      ],
      "metadata": {
        "id": "FvrzlQmY__I-"
      },
      "execution_count": null,
      "outputs": []
    },
    {
      "cell_type": "code",
      "source": [
        "knn_predict1 = best_model.predict(X_validation)\n",
        "accuracy_KN2 = accuracy_score(Y_validation,knn_predict1)"
      ],
      "metadata": {
        "id": "G2gPI4BdAbX0"
      },
      "execution_count": null,
      "outputs": []
    },
    {
      "cell_type": "code",
      "source": [
        "knn_predict1"
      ],
      "metadata": {
        "id": "YFzQpucVAd8S"
      },
      "execution_count": null,
      "outputs": []
    },
    {
      "cell_type": "code",
      "source": [
        "print(\"Accuracy of the KNeighbors Classifier model: \", accuracy_KN2 * 100)"
      ],
      "metadata": {
        "id": "ka5y_7wjAgBu"
      },
      "execution_count": null,
      "outputs": []
    },
    {
      "cell_type": "markdown",
      "source": [
        "##**Model 3. Gradient Tree Boosting Classifier Model**"
      ],
      "metadata": {
        "id": "Fze-IPXLpx6K"
      }
    },
    {
      "cell_type": "code",
      "source": [
        "# ML Model - 3 Implementation\n",
        "\n",
        "# Fit the Algorithm\n",
        "\n",
        "# Predict on the model\n",
        "\n",
        "model1 = ensemble.GradientBoostingClassifier()\n",
        "model1.fit(X_train,Y_train)\n",
        "pred = model1.predict(X_validation)\n",
        "accuracy_GT1 = accuracy_score(Y_validation,pred)\n",
        "print(\"Accuracy of the gradient tree boosting classifier model: \", accuracy_GT1 * 100)"
      ],
      "metadata": {
        "id": "FFrSXAtrpx6M"
      },
      "execution_count": null,
      "outputs": []
    },
    {
      "cell_type": "markdown",
      "source": [
        "####**Cross- Validation & Hyperparameter Tuning**"
      ],
      "metadata": {
        "id": "ddulxPM1BA1V"
      }
    },
    {
      "cell_type": "code",
      "source": [
        "# ML Model - 3 Implementation with hyperparameter optimization techniques (i.e., GridSearch CV, RandomSearch CV, Bayesian Optimization etc.)\n",
        "gbc=GradientBoostingClassifier(random_state=0)\n",
        "\n",
        "grid_values={'learning_rate':[0.005,1,2,3],\n",
        "             'min_samples_split':range(10,26)\n",
        "          \n",
        "             }\n",
        "# Fit the Algorithm\n",
        "gbc_tune=GridSearchCV(gbc,param_grid=grid_values,cv=3,verbose=1,scoring='accuracy')\n",
        "gbc_tune.fit(X_train,Y_train)"
      ],
      "metadata": {
        "id": "_Cji01KChdsu"
      },
      "execution_count": null,
      "outputs": []
    },
    {
      "cell_type": "code",
      "source": [
        "# Getting best parameters\n",
        "gbc_tune.best_params_"
      ],
      "metadata": {
        "id": "YJPicisjhje3"
      },
      "execution_count": null,
      "outputs": []
    },
    {
      "cell_type": "code",
      "source": [
        "from sklearn import ensemble\n",
        "# creating a gradient boosting classifier with best params\n",
        "GT_BR = ensemble.GradientBoostingClassifier(\n",
        "        criterion = 'squared_error',\n",
        "        learning_rate = 0.05,\n",
        "        loss = 'deviance',\n",
        "        max_features = 'log2',\n",
        "        n_estimators = 1000,\n",
        "        subsample = 0.5,\n",
        ")\n",
        "# fit\n",
        "gt_br_model = GT_BR.fit(X_train,Y_train)"
      ],
      "metadata": {
        "id": "bVLaB2mqB1EE"
      },
      "execution_count": null,
      "outputs": []
    },
    {
      "cell_type": "code",
      "source": [
        "gt_br_predict = gt_br_model.predict(X_validation)\n",
        "#find accuracy score of the hypertuned model\n",
        "accuracy_GT2 = accuracy_score(Y_validation,gt_br_predict)"
      ],
      "metadata": {
        "id": "PQGy8D_1B3Uu"
      },
      "execution_count": null,
      "outputs": []
    },
    {
      "cell_type": "code",
      "source": [
        "print(\"Accuracy done by gradient boosting:\",accuracy_GT2 )"
      ],
      "metadata": {
        "id": "juarNyAbB5Ti"
      },
      "execution_count": null,
      "outputs": []
    },
    {
      "cell_type": "markdown",
      "source": [
        "##**Model 4. Support Vector Machine**"
      ],
      "metadata": {
        "id": "9U24bzRLBUas"
      }
    },
    {
      "cell_type": "code",
      "source": [
        "# ML Model - 4 Implementation\n",
        "\n",
        "# Fit the Algorithm\n",
        "\n",
        "# Predict on the model\n",
        "\n",
        "svm = SVC()\n",
        "svm_model = svm.fit(X_train,Y_train)\n",
        "svm_predict = svm_model.predict(X_validation)\n",
        "accuracy_svm = accuracy_score(Y_validation,svm_predict)\n",
        "print(\"Accuracy of the svm model: \", accuracy_svm * 100)"
      ],
      "metadata": {
        "id": "okBXT8OMBUat"
      },
      "execution_count": null,
      "outputs": []
    },
    {
      "cell_type": "markdown",
      "source": [
        "####**Cross- Validation & Hyperparameter Tuning**"
      ],
      "metadata": {
        "id": "lKbrDlNpBUat"
      }
    },
    {
      "cell_type": "code",
      "source": [
        "# grid search method \n",
        "from sklearn.model_selection import GridSearchCV\n",
        "\n",
        "param_grid = {'gamma': [.1,.5,.25,1],\n",
        "             'kernel':['rbf','poly','sigmoid','linear']}\n",
        "GS = GridSearchCV(SVC(),param_grid,cv=5)"
      ],
      "metadata": {
        "id": "1jqjIUNtBUat"
      },
      "execution_count": null,
      "outputs": []
    },
    {
      "cell_type": "code",
      "source": [
        "model_svm = GS.fit(X_train,Y_train)\n",
        "print(\"the parameters {} are the best.\".format(GS.best_params_))\n",
        "print(\"the best score is {:.2f}.\".format(GS.best_score_))   "
      ],
      "metadata": {
        "id": "oKGACw7zEYW1"
      },
      "execution_count": null,
      "outputs": []
    },
    {
      "cell_type": "code",
      "source": [
        "SVM = SVC(\n",
        "    gamma = 0.1,\n",
        "    kernel = 'linear'\n",
        ")"
      ],
      "metadata": {
        "id": "iiOzyHamE9qx"
      },
      "execution_count": null,
      "outputs": []
    },
    {
      "cell_type": "code",
      "source": [
        "model_svm2 = SVM.fit(X_train,Y_train)"
      ],
      "metadata": {
        "id": "SgnOFw_QE-P9"
      },
      "execution_count": null,
      "outputs": []
    },
    {
      "cell_type": "code",
      "source": [
        "svm_pred2  = model_svm2.predict(X_validation)"
      ],
      "metadata": {
        "id": "sZ_S_PaIFAgF"
      },
      "execution_count": null,
      "outputs": []
    },
    {
      "cell_type": "code",
      "source": [
        "# Importing classification report and confusion matrix from sklearn metrics\n",
        "from sklearn.metrics import classification_report, confusion_matrix, accuracy_score\n",
        "\n",
        "# Printing classification report\n",
        "print(classification_report(Y_validation, svm_pred2))\n",
        "\n",
        "# Printing accuracy\n",
        "print(accuracy_score(Y_validation,svm_pred2))\n",
        "accuracy_svm = accuracy_score(Y_validation,svm_pred2)"
      ],
      "metadata": {
        "id": "JWtic14bFDcG"
      },
      "execution_count": null,
      "outputs": []
    },
    {
      "cell_type": "code",
      "source": [
        "print(\"Accuracy of the updated svm model: \", accuracy_svm * 100)"
      ],
      "metadata": {
        "id": "cbn9RXDiFj8m"
      },
      "execution_count": null,
      "outputs": []
    },
    {
      "cell_type": "code",
      "source": [
        "from sklearn.metrics import confusion_matrix\n",
        "matrix=confusion_matrix(Y_validation,svm_pred2)\n",
        "plt.figure(figsize = (10,7))\n",
        "sns.heatmap(matrix,annot=True)"
      ],
      "metadata": {
        "id": "pFwiPKBsFmZK"
      },
      "execution_count": null,
      "outputs": []
    },
    {
      "cell_type": "markdown",
      "source": [
        "##**Model 5. Random Forest Model**"
      ],
      "metadata": {
        "id": "hBNs3L0qFvF-"
      }
    },
    {
      "cell_type": "code",
      "source": [
        "from sklearn.ensemble import RandomForestClassifier\n",
        "rf = RandomForestClassifier()\n",
        "MODEL2 = rf.fit(X_train,Y_train)\n",
        "rf_predict = MODEL2.predict(X_validation)\n",
        "accuracy_rf = accuracy_score(Y_validation,rf_predict)\n",
        "print(\"Accuracy of Random Forest Model:\",accuracy_rf)"
      ],
      "metadata": {
        "id": "xq91TJ-eF0tp"
      },
      "execution_count": null,
      "outputs": []
    },
    {
      "cell_type": "markdown",
      "source": [
        "####**Cross- Validation & Hyperparameter Tuning**"
      ],
      "metadata": {
        "id": "7IqolL8iF3-M"
      }
    },
    {
      "cell_type": "code",
      "source": [
        "from sklearn.ensemble import RandomForestClassifier\n",
        "model = RandomForestClassifier()\n",
        "params = {'n_estimators':[300, 400, 500, 700],\n",
        "          'max_depth':[None, 10, 20, 40],\n",
        "          'min_samples_split':[2,6,10],\n",
        "          'max_leaf_nodes':[None],\n",
        "          'criterion':['entropy','gini'],\n",
        "          'max_features':['auto','log2','sqrt']\n",
        "          \n",
        "             }\n",
        "rf_gridS = GridSearchCV(model,param_grid=params,n_jobs=-1)"
      ],
      "metadata": {
        "id": "iVD1UUv8F4Y5"
      },
      "execution_count": null,
      "outputs": []
    },
    {
      "cell_type": "code",
      "source": [
        " rf_gridS.fit(X_train, Y_train)"
      ],
      "metadata": {
        "id": "dy_eVbIFF6dT"
      },
      "execution_count": null,
      "outputs": []
    },
    {
      "cell_type": "code",
      "source": [
        "# Print the parameters that gave us the best result!\n",
        "print(rf_gridS.best_params_)"
      ],
      "metadata": {
        "id": "3iQ_NMlfF96m"
      },
      "execution_count": null,
      "outputs": []
    },
    {
      "cell_type": "code",
      "source": [
        "updated_model = RandomForestClassifier(\n",
        "    criterion = \"entropy\",\n",
        "    min_samples_leaf = 1,\n",
        "    min_samples_split = 6,\n",
        "    n_estimators = 1200,\n",
        "    random_state = 123,\n",
        ")\n",
        "updated_rf_model = updated_model.fit(X_train,Y_train)\n",
        "rf_predict = updated_rf_model.predict(X_validation)\n",
        "accuracy_rf2 = accuracy_score(Y_validation,rf_predict)"
      ],
      "metadata": {
        "id": "RqJqfL47GD3x"
      },
      "execution_count": null,
      "outputs": []
    },
    {
      "cell_type": "code",
      "source": [
        "print(\"Accuracy of Random Forest Model:\",accuracy_rf2)"
      ],
      "metadata": {
        "id": "InVmHBqNGF5h"
      },
      "execution_count": null,
      "outputs": []
    },
    {
      "cell_type": "markdown",
      "source": [
        "##**Model 6. Decision Tree Model**"
      ],
      "metadata": {
        "id": "cbGSiVpFGIWi"
      }
    },
    {
      "cell_type": "code",
      "source": [
        "from sklearn.tree import DecisionTreeClassifier\n",
        "\n",
        "dt_classfier = DecisionTreeClassifier()\n",
        "model_dt = dt_classfier.fit(X_train,Y_train)\n",
        "dt_classi_predict = model_dt.predict(X_validation)\n",
        "accuravy_DT = accuracy_score(Y_validation,dt_classi_predict)\n",
        "print(\"Accuravy of the decision tree classifier model: \", accuravy_DT * 100)\n"
      ],
      "metadata": {
        "id": "ZPseZ39JGQgc"
      },
      "execution_count": null,
      "outputs": []
    },
    {
      "cell_type": "markdown",
      "source": [
        "####**Cross- Validation & Hyperparameter Tuning**"
      ],
      "metadata": {
        "id": "KVTZ2JQaGIWi"
      }
    },
    {
      "cell_type": "code",
      "source": [
        "# ML Model - 1 Implementation with hyperparameter optimization techniques (i.e., GridSearch CV, RandomSearch CV, Bayesian Optimization etc.)\n",
        "dtc_= DecisionTreeClassifier(random_state=0)\n",
        "\n",
        "grid_values={'criterion':['gini','entropy'],\n",
        "             'max_depth':[2,3,4,5,6,9,10,11,12,13,14,15],\n",
        "             'splitter':['best','random'],\n",
        "             'min_samples_split':[3,5,10],\n",
        "             'max_features':['auto','sqrt','log2',None]}\n",
        "\n",
        "\n",
        "# Fit the Algorithm\n",
        "\n",
        "dtc_tune=GridSearchCV(dtc_,param_grid=grid_values,cv=5,scoring='accuracy',verbose=3)\n",
        "dtc_tune.fit(X_train,Y_train)   # model fitting."
      ],
      "metadata": {
        "id": "yWnGxSn1GRCy"
      },
      "execution_count": null,
      "outputs": []
    },
    {
      "cell_type": "code",
      "source": [
        "# getting best parameters for model.\n",
        "print(dtc_tune.best_params_)\n",
        "\n",
        "# getting best estimators\n",
        "print(dtc_tune.best_estimator_)"
      ],
      "metadata": {
        "id": "FyBOcSCJGVip"
      },
      "execution_count": null,
      "outputs": []
    },
    {
      "cell_type": "code",
      "source": [
        "# using best parameters and training the the data.\n",
        "dtc_optimal=DecisionTreeClassifier(criterion='entropy', max_depth=9, min_samples_split=10,\n",
        "                       random_state=0)\n",
        "dtc_optimal.fit(X_train,Y_train)"
      ],
      "metadata": {
        "id": "F8qFIQ4fGpHB"
      },
      "execution_count": null,
      "outputs": []
    },
    {
      "cell_type": "code",
      "source": [
        "# Predict on the model\n",
        "Y_train_pred=dtc_optimal.predict(X_train)\n",
        "Y_pred=dtc_optimal.predict(X_test)"
      ],
      "metadata": {
        "id": "OIzvBVpKHJtU"
      },
      "execution_count": null,
      "outputs": []
    },
    {
      "cell_type": "code",
      "source": [
        "# Accuracy\n",
        "print('Train set Accuracy: ' )\n",
        "print(accuracy_score(Y_train,Y_train_pred))\n",
        "print('_____________________________________\\n')\n",
        "\n",
        "print('Test set Accuracy:')\n",
        "print(accuracy_score(Y_test,Y_pred))"
      ],
      "metadata": {
        "id": "ZeNe_bBTHM_5"
      },
      "execution_count": null,
      "outputs": []
    },
    {
      "cell_type": "code",
      "source": [
        "# Test options and evaluation metric\n",
        "validation_size = 0.30\n",
        "seed = 7\n",
        "scoring = 'accuracy'\n",
        "X_train, X_validation, Y_train, Y_validation = model_selection.train_test_split(X, Y, test_size=validation_size, random_state=seed)"
      ],
      "metadata": {
        "id": "3O5zN34CHWCc"
      },
      "execution_count": null,
      "outputs": []
    },
    {
      "cell_type": "code",
      "source": [
        "dt_classfier2 = DecisionTreeClassifier()\n",
        "model_dt2 = dt_classfier2.fit(X_train,Y_train)\n",
        "dt_classi_predict2 = model_dt2.predict(X_validation)\n",
        "accuravy_DT2 = accuracy_score(Y_validation,dt_classi_predict)\n",
        "print(\"Accuravy of the decision tree classifier model: \", accuravy_DT2 * 100)\n",
        "\n",
        "Accuracy_changes_dt = accuravy_DT2 - accuravy_DT\n",
        "print(\"DIFFERENCE of the decision tree classifier model: \",Accuracy_changes_dt *100)"
      ],
      "metadata": {
        "id": "EbOKSP2NHWro"
      },
      "execution_count": null,
      "outputs": []
    },
    {
      "cell_type": "code",
      "source": [
        "#hypertuning model\n",
        "from sklearn.tree import DecisionTreeClassifier\n",
        "from sklearn.model_selection import GridSearchCV\n",
        "\n",
        "tree_para = {'criterion':['gini','entropy'],\n",
        "             'max_depth':[4,5,6,7,8,9,10,11,12,15,20,30,40,50,70,90,120,150],\n",
        "             'splitter' :['best', 'random'],\n",
        "             \n",
        "            }\n",
        "clf = GridSearchCV(dt_classfier2, tree_para, cv=5)\n",
        "model_dt3 = clf.fit(X_train,Y_train)"
      ],
      "metadata": {
        "id": "kvAOAxiNHY2l"
      },
      "execution_count": null,
      "outputs": []
    },
    {
      "cell_type": "code",
      "source": [
        "print(clf.best_params_)"
      ],
      "metadata": {
        "id": "S9Drm_MmHb4U"
      },
      "execution_count": null,
      "outputs": []
    },
    {
      "cell_type": "code",
      "source": [
        "dt_classfier2 = DecisionTreeClassifier(\n",
        "     criterion = 'entropy',\n",
        "     max_depth = 11,\n",
        "    splitter = 'best'\n",
        ")"
      ],
      "metadata": {
        "id": "l_7YEXZgHd6s"
      },
      "execution_count": null,
      "outputs": []
    },
    {
      "cell_type": "code",
      "source": [
        "updated_dt_model = dt_classfier2.fit(X_train,Y_train)"
      ],
      "metadata": {
        "id": "Dir-tC8oHf2I"
      },
      "execution_count": null,
      "outputs": []
    },
    {
      "cell_type": "code",
      "source": [
        "dt_classi_predict2 = updated_dt_model.predict(X_validation)\n",
        "accuravy_DT2 = accuracy_score(Y_validation,dt_classi_predict2)\n",
        "print(\"Accuracy of the decision tree classifier model: \", accuravy_DT2 * 100)"
      ],
      "metadata": {
        "id": "e3VkQsNdHjut"
      },
      "execution_count": null,
      "outputs": []
    },
    {
      "cell_type": "markdown",
      "source": [
        "##**6. Choosing the best model**"
      ],
      "metadata": {
        "id": "wZXKu51ZISQ0"
      }
    },
    {
      "cell_type": "code",
      "source": [
        "accuracy_LR2"
      ],
      "metadata": {
        "id": "oJ5nXGAoIWtl"
      },
      "execution_count": null,
      "outputs": []
    },
    {
      "cell_type": "code",
      "source": [
        "accuravy_DT2"
      ],
      "metadata": {
        "id": "mVneWdHiIXO5"
      },
      "execution_count": null,
      "outputs": []
    },
    {
      "cell_type": "code",
      "source": [
        "accuracy_KN2"
      ],
      "metadata": {
        "id": "ZgsCPa7OIZEj"
      },
      "execution_count": null,
      "outputs": []
    },
    {
      "cell_type": "code",
      "source": [
        "accuracy_svm"
      ],
      "metadata": {
        "id": "xeypR30EIbSu"
      },
      "execution_count": null,
      "outputs": []
    },
    {
      "cell_type": "code",
      "source": [
        "accuracy_GT2"
      ],
      "metadata": {
        "id": "TLvBgsf5Idf5"
      },
      "execution_count": null,
      "outputs": []
    },
    {
      "cell_type": "code",
      "source": [
        "accuracy_rf2"
      ],
      "metadata": {
        "id": "zpD-LPDCIfgk"
      },
      "execution_count": null,
      "outputs": []
    },
    {
      "cell_type": "code",
      "source": [
        "X = df.to_numpy()"
      ],
      "metadata": {
        "id": "u_ZETu_YIhea"
      },
      "execution_count": null,
      "outputs": []
    },
    {
      "cell_type": "code",
      "source": [
        "# Test options and evaluation metric\n",
        "validation_size = 0.30\n",
        "seed = 7\n",
        "scoring = 'accuracy'\n",
        "X_train, X_validation, Y_train, Y_validation = model_selection.train_test_split(X, Y, test_size=validation_size, random_state=seed)"
      ],
      "metadata": {
        "id": "QcgHQiyuIlUN"
      },
      "execution_count": null,
      "outputs": []
    },
    {
      "cell_type": "code",
      "source": [
        "from sklearn import ensemble\n",
        "up_models = []\n",
        "up_models.append(('LogisticR', LogisticRegression(solver='newton-cg')))\n",
        "up_models.append(('KNN', KNeighborsClassifier(leaf_size=1, n_neighbors=16, weights='distance')))\n",
        "up_models.append(('SVM', SVC(gamma = 0.1,kernel = 'linear')))\n",
        "up_models.append(('GTB', ensemble.GradientBoostingClassifier(criterion = 'squared_error',learning_rate = 0.15,loss = 'deviance',max_features = 'sqrt',n_estimators = 3000,subsample = 0.5)))\n",
        "up_models.append(('RF', RandomForestClassifier(criterion = \"entropy\",min_samples_leaf = 1,min_samples_split = 6,n_estimators = 1200,random_state = 123,)))\n",
        "up_models.append(('DTC', DecisionTreeClassifier(criterion = 'entropy',max_depth = 11,splitter = 'best')))\n",
        "\n",
        "results = []\n",
        "names = []\n",
        "scoring = 'accuracy'\n",
        "for name, model in up_models:\n",
        "    model.fit(X_train,Y_train)\n",
        "    pred = model.predict(X_validation)\n",
        "    accuracy_model = accuracy_score(Y_validation,pred)\n",
        "    print(\"Accuracy of \" ,name, \":\", accuracy_model * 100)\n",
        "print(\"There are\" , len(models) , \"models we have tried out!! \")"
      ],
      "metadata": {
        "id": "bbJ9CrViInVB"
      },
      "execution_count": null,
      "outputs": []
    },
    {
      "cell_type": "code",
      "source": [
        "# Create a graph to image out the accuracy of all models and then choose the best accurate model\n",
        "models = ['lr', 'dt', 'knn','svm','gt','rf']\n",
        "acc_scores = [accuracy_LR2, accuravy_DT2, accuracy_KN2,accuracy_svm,accuracy_GT2,accuracy_rf2]\n",
        "\n",
        "plt.bar(models, acc_scores, color=['lightgrey', 'pink', 'green', 'lightblue','black','orange'])\n",
        "plt.ylabel(\"accuracy scores\")\n",
        "plt.title(\"Which model is the most accurate?\")\n",
        "plt.show()"
      ],
      "metadata": {
        "id": "v92hp8nIIqDM"
      },
      "execution_count": null,
      "outputs": []
    },
    {
      "cell_type": "markdown",
      "source": [
        "**For our dataset 'Support Vector Machine' has proven to be the best it mainly gives Good accuracy for many simple data sets and it performs well when the dataset is linearly separable(as in our case).**"
      ],
      "metadata": {
        "id": "ouGnW9nA1BWM"
      }
    },
    {
      "cell_type": "markdown",
      "source": [
        "# **7. Conclusion**"
      ],
      "metadata": {
        "id": "gCX9965dhzqZ"
      }
    },
    {
      "cell_type": "markdown",
      "source": [
        "###**EDA**\n",
        "\n",
        "**-Data Wrangling and Data Visualization has provided the best idea about the features involved in the datset.**\n",
        "\n",
        "**-We are fortunate that the dataset was almost a cleaned one with no null values present or duplicate records found, it helped in maintaining the correct pace.**\n",
        "\n",
        "**-Most of the categorical features had a similar distribution or count except the feature '3G'. There were very few records for mobile phones which doesn't support 3G.**\n",
        "\n",
        "**-While determining the distribution of Categorical features with respect to the taget variable finding states that all the categorical variables namely 'dual_sim', 'wifi', 'blue', 'touch_screen', 'three_g', 'four_g' have a similar count of data for each classes which ranges mostly in between 230 -260(almost)except the variable 'three_g'.In 'three_g' there are very few number of mobiles which doesn't support 3G across all the price ranges.And the number of mobile phones that supports 3G(comparing to mobiles not having 3G) ranges more than 350.**\n",
        "\n",
        "**-By increasing the size of ram , price increase alot.**\n",
        "\n",
        "**-Most number of low cost mobiles, has battery power 750(mAh). Most expensive mobiles have better batteries i.e. 1500-2000(mah)**\n",
        "\n",
        "**-Heviest mobiles have low cost***\n",
        "\n",
        "**-Most of mobiles in all price range, has 0.5 clock speed.**\n",
        "\n",
        "**-Very high cost mobiles have bigger height and width in cm**\n",
        "\n",
        "**-mobiles that don't have front camera have medium price**\n",
        "\n",
        "**-Most of mobiles in all price range, has front camera with 2 mega pixel.**\n",
        "\n",
        "**-Most of mobiles in all price range, has 4 cm width.**\n",
        "\n",
        "###**ML Classification**\n",
        "\n",
        "**-Based on to our main objective to predict the Mobile Price Range. Support Vector Machine is the best performing model, out off all the other models used namely Logistic Regression, Decision tree, Gradient Boosting, Knn, Random Forest, XGBoost.**\n",
        "\n",
        "**-Decision Tree model is the worst performing models for our dataset**"
      ],
      "metadata": {
        "id": "Fjb1IsQkh3yE"
      }
    }
  ]
}